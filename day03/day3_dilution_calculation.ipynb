{
 "cells": [
  {
   "cell_type": "code",
   "execution_count": 79,
   "id": "520fd78f-4055-4e4a-8df0-17783e0c4ffb",
   "metadata": {},
   "outputs": [
    {
     "name": "stdout",
     "output_type": "stream",
     "text": [
      "Initial concentration: 0.5 mg/mL -> Final concentration: 0.32 mg/mL \n",
      "\n",
      "Initial concentration: 1 mg/mL -> Final concentration: 0.64 mg/mL \n",
      "\n",
      "Initial concentration: 1.7 mg/mL -> Final concentration: 1.09 mg/mL \n",
      "\n",
      "Initial concentration: 3.5 mg/mL -> Final concentration: 2.25 mg/mL \n",
      "\n",
      "Initial concentration: 8 mg/mL -> Final concentration: 5.14 mg/mL \n",
      "\n",
      "Initial concentration: 9 mg/mL -> Final concentration: 5.79 mg/mL \n",
      "\n",
      "Initial concentration: 11.5 mg/mL -> Final concentration: 7.39 mg/mL \n",
      "\n",
      "Initial concentration: 13.8 mg/mL -> Final concentration: 8.87 mg/mL \n",
      "\n",
      "Initial concentration: 21 mg/mL -> Final concentration: 13.50 mg/mL \n",
      "\n",
      "Initial concentration: 23 mg/mL -> Final concentration: 14.79 mg/mL \n",
      "\n",
      "c1_values = [0.5, 1, 1.7, 3.5, 8, 9, 11.5, 13.8, 21, 23] \n",
      "\n",
      "c2_values = [0.32142857142857145, 0.6428571428571429, 1.0928571428571427, 2.25, 5.142857142857143, 5.785714285714286, 7.392857142857143, 8.871428571428572, 13.5, 14.785714285714286] \n",
      "\n"
     ]
    }
   ],
   "source": [
    "#PART 1 and 2\n",
    "v1 = 4.5\n",
    "v2 = 7\n",
    "c2_values = []\n",
    "c1_values = [ 0.5, 1, 1.7, 3.5, 8, 9, 11.5, 13.8, 21, 23 ]\n",
    "for c1 in c1_values:\n",
    "    c2 = (c1*v1)/v2 \n",
    "\n",
    "    c2_values.append(c2)\n",
    "\n",
    "    print(f\"Initial concentration: {c1} mg/mL -> Final concentration: {c2:.2f} mg/mL\", '\\n')\n",
    "\n",
    "print(\"c1_values =\", c1_values , '\\n')\n",
    "print(\"c2_values =\", c2_values , '\\n')\n",
    "\n",
    "\n",
    "\n",
    "    \n",
    "    \n",
    "\n"
   ]
  },
  {
   "cell_type": "code",
   "execution_count": null,
   "id": "88857152-6855-498d-893f-1fb042443d83",
   "metadata": {},
   "outputs": [],
   "source": []
  },
  {
   "cell_type": "code",
   "execution_count": 41,
   "id": "e66b356b-eab1-4460-b2b8-4a406c0892d7",
   "metadata": {},
   "outputs": [
    {
     "name": "stdout",
     "output_type": "stream",
     "text": [
      "Calculated slopes: [0.6, 0.5714285714285715, 0.6944444444444444, 0.6333333333333333, 0.6000000000000005, 0.6399999999999999, 0.6608695652173913, 0.65, 0.6299999999999999]\n"
     ]
    }
   ],
   "source": [
    "#PART 3\n",
    "c1_values = [0.5, 1, 1.7, 3.5, 8, 9, 11.5, 13.8, 21, 23] \n",
    "c2_values = [0.3, 0.6, 1, 2.25, 5.1, 5.7, 7.3, 8.82, 13.5, 14.76]\n",
    "\n",
    "slopes = []\n",
    "\n",
    "# Calculate the slope for each consecutive pair of points\n",
    "\n",
    "for i in range(1,len(c1_values)):\n",
    "    x1, x2 = c1_values[i-1], c1_values[i]\n",
    "    y1, y2 = c2_values[i-1], c2_values[i]\n",
    "    slope = ( y2 - y1 )/( x2 - x1 )\n",
    "    \n",
    "    slopes.append(slope)\n",
    "    \n",
    "\n",
    "# Print the list of calculated slopes\n",
    "print(\"Calculated slopes:\", slopes)\n"
   ]
  },
  {
   "cell_type": "code",
   "execution_count": 9,
   "id": "aad7f8f8-3bc6-4104-9914-1d24ba3f8fe4",
   "metadata": {},
   "outputs": [
    {
     "name": "stdin",
     "output_type": "stream",
     "text": [
      "Initial Population:  100\n",
      "Percentage rate of growth:  0.35\n",
      "Enter the elements of the array separated by space:  10 20 30 40\n"
     ]
    },
    {
     "name": "stdout",
     "output_type": "stream",
     "text": [
      "100.0\n",
      "0.35\n",
      "[10, 20, 30, 40]\n",
      "Population growth after time t: [3311.545195869231, 109663.31584284586, 3631550.2674246635, 120260428.41647768]\n"
     ]
    }
   ],
   "source": [
    "# PART 4\n",
    "import math\n",
    "P0 = float(input(\"Initial Population: \"))\n",
    "\n",
    "r =  float(input(\"Percentage rate of growth: \"))\n",
    "\n",
    "# Range of time\n",
    "time = list(map(int, input(\"Enter the elements of the array separated by space: \").split()))\n",
    "\n",
    "#Population after time t\n",
    "P = []\n",
    "for t in time:\n",
    "    Pt = (P0)*(math.exp(r*t))\n",
    "\n",
    "    P.append(Pt)\n",
    "\n",
    "print(P0)\n",
    "print(r)\n",
    "print(time)\n",
    "\n",
    "print(\"Population growth after time t:\", P)\n"
   ]
  },
  {
   "cell_type": "code",
   "execution_count": null,
   "id": "7190d94a-32f0-4eb5-b65e-ddd6de0cd2c9",
   "metadata": {},
   "outputs": [],
   "source": []
  },
  {
   "cell_type": "code",
   "execution_count": null,
   "id": "b7567d1c-3e4f-47fe-9c8b-3d0f0dcc3916",
   "metadata": {},
   "outputs": [],
   "source": []
  }
 ],
 "metadata": {
  "kernelspec": {
   "display_name": "Python 3 (ipykernel)",
   "language": "python",
   "name": "python3"
  },
  "language_info": {
   "codemirror_mode": {
    "name": "ipython",
    "version": 3
   },
   "file_extension": ".py",
   "mimetype": "text/x-python",
   "name": "python",
   "nbconvert_exporter": "python",
   "pygments_lexer": "ipython3",
   "version": "3.13.0"
  }
 },
 "nbformat": 4,
 "nbformat_minor": 5
}
