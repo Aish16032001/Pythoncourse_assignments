{
 "cells": [
  {
   "cell_type": "code",
   "execution_count": 22,
   "id": "9f74198e-d96b-4a19-b865-40213111a643",
   "metadata": {},
   "outputs": [
    {
     "name": "stdin",
     "output_type": "stream",
     "text": [
      "Width of the rectangle:  2\n",
      "Length of the rectangle:  3\n",
      "radius of the circle:  4\n"
     ]
    },
    {
     "name": "stdout",
     "output_type": "stream",
     "text": [
      "area of the rectangle = 6.0\n",
      "circumference of the rectangle = 10.0\n",
      "area of the circle = 50.26548245743669\n",
      "circumference of the circle = 25.132741228718345\n"
     ]
    }
   ],
   "source": [
    "width = float(input(\"Width of the rectangle: \"))\n",
    "length = float(input(\"Length of the rectangle: \"))\n",
    "Radius = float(input(\"radius of the circle: \"))\n",
    "import math\n",
    "pi_value = math.pi\n",
    "area_rec = width * length\n",
    "circum_rec = 2 * (width + length)\n",
    "area_circle = pi_value*(Radius**2)\n",
    "circum_circle = 2 *pi_value*Radius\n",
    "\n",
    "print(\"area of the rectangle =\", area_rec)\n",
    "print(\"circumference of the rectangle =\", circum_rec)\n",
    "print(\"area of the circle =\", area_circle)\n",
    "print(\"circumference of the circle =\", circum_circle)\n",
    "\n"
   ]
  },
  {
   "cell_type": "code",
   "execution_count": 5,
   "id": "c36012c3-8ba2-4fea-84cd-4c17fba2f3a5",
   "metadata": {},
   "outputs": [
    {
     "data": {
      "text/plain": [
       "50.26548245743669"
      ]
     },
     "execution_count": 5,
     "metadata": {},
     "output_type": "execute_result"
    }
   ],
   "source": [
    "area_circle"
   ]
  },
  {
   "cell_type": "code",
   "execution_count": 6,
   "id": "d60524a2-ec1e-4636-a595-ca0fbe7d8248",
   "metadata": {},
   "outputs": [
    {
     "data": {
      "text/plain": [
       "6.0"
      ]
     },
     "execution_count": 6,
     "metadata": {},
     "output_type": "execute_result"
    }
   ],
   "source": [
    "area_rectangle"
   ]
  },
  {
   "cell_type": "code",
   "execution_count": 7,
   "id": "c1e43ddd-ccc1-44c6-9c26-a37210da5776",
   "metadata": {},
   "outputs": [
    {
     "data": {
      "text/plain": [
       "25.132741228718345"
      ]
     },
     "execution_count": 7,
     "metadata": {},
     "output_type": "execute_result"
    }
   ],
   "source": [
    "circumference_circle"
   ]
  },
  {
   "cell_type": "code",
   "execution_count": 8,
   "id": "b16c63cc-9206-4834-a5e8-f2f71f013f26",
   "metadata": {},
   "outputs": [
    {
     "data": {
      "text/plain": [
       "10.0"
      ]
     },
     "execution_count": 8,
     "metadata": {},
     "output_type": "execute_result"
    }
   ],
   "source": [
    "circumference_rectangle"
   ]
  },
  {
   "cell_type": "code",
   "execution_count": 10,
   "id": "e5fa1662-056c-43b4-abce-c9d3693e2d4c",
   "metadata": {},
   "outputs": [
    {
     "data": {
      "text/plain": [
       "113.09733552923255"
      ]
     },
     "execution_count": 10,
     "metadata": {},
     "output_type": "execute_result"
    }
   ],
   "source": [
    "area_circle"
   ]
  },
  {
   "cell_type": "code",
   "execution_count": null,
   "id": "c8131991-8d22-487c-b502-e423989f5892",
   "metadata": {},
   "outputs": [],
   "source": []
  }
 ],
 "metadata": {
  "kernelspec": {
   "display_name": "Python 3 (ipykernel)",
   "language": "python",
   "name": "python3"
  },
  "language_info": {
   "codemirror_mode": {
    "name": "ipython",
    "version": 3
   },
   "file_extension": ".py",
   "mimetype": "text/x-python",
   "name": "python",
   "nbconvert_exporter": "python",
   "pygments_lexer": "ipython3",
   "version": "3.13.0"
  }
 },
 "nbformat": 4,
 "nbformat_minor": 5
}
