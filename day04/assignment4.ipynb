{
 "cells": [
  {
   "cell_type": "code",
   "execution_count": null,
   "id": "ef82f521-5213-4845-a738-e2213e614ff8",
   "metadata": {},
   "outputs": [],
   "source": []
  },
  {
   "cell_type": "code",
   "execution_count": null,
   "id": "f8e1851b-30bc-49ae-a30d-18ea2de651b0",
   "metadata": {},
   "outputs": [
    {
     "name": "stdout",
     "output_type": "stream",
     "text": [
      "Number Guessing Game!\n",
      "Enter 'x' to exit, 'n' to start a new game, or 's' to show the hidden number.\n"
     ]
    },
    {
     "name": "stdin",
     "output_type": "stream",
     "text": [
      "Your guess:  8\n"
     ]
    },
    {
     "name": "stdout",
     "output_type": "stream",
     "text": [
      "8\n",
      "Too small!\n"
     ]
    },
    {
     "name": "stdin",
     "output_type": "stream",
     "text": [
      "Your guess:  13\n"
     ]
    },
    {
     "name": "stdout",
     "output_type": "stream",
     "text": [
      "13\n",
      "Too small!\n"
     ]
    },
    {
     "name": "stdin",
     "output_type": "stream",
     "text": [
      "Your guess:  16\n"
     ]
    },
    {
     "name": "stdout",
     "output_type": "stream",
     "text": [
      "16\n",
      "Too small!\n"
     ]
    },
    {
     "name": "stdin",
     "output_type": "stream",
     "text": [
      "Your guess:  17\n"
     ]
    },
    {
     "name": "stdout",
     "output_type": "stream",
     "text": [
      "17\n",
      "Too small!\n"
     ]
    },
    {
     "name": "stdin",
     "output_type": "stream",
     "text": [
      "Your guess:  19\n"
     ]
    },
    {
     "name": "stdout",
     "output_type": "stream",
     "text": [
      "19\n",
      "Too small!\n"
     ]
    },
    {
     "name": "stdin",
     "output_type": "stream",
     "text": [
      "Your guess:  20\n"
     ]
    },
    {
     "name": "stdout",
     "output_type": "stream",
     "text": [
      "20\n",
      "Congratulations! correct guess in 6 attempts.\n"
     ]
    },
    {
     "name": "stdin",
     "output_type": "stream",
     "text": [
      "\n",
      " Do you want to play another game? (y/n):  y\n"
     ]
    },
    {
     "name": "stdout",
     "output_type": "stream",
     "text": [
      "Enter 'x' to exit, 'n' to start a new game, or 's' to show the hidden number.\n"
     ]
    },
    {
     "name": "stdin",
     "output_type": "stream",
     "text": [
      "Your guess:  x\n"
     ]
    },
    {
     "name": "stdout",
     "output_type": "stream",
     "text": [
      "x\n",
      "Exit. See you again!\n"
     ]
    },
    {
     "name": "stdin",
     "output_type": "stream",
     "text": [
      "\n",
      " Do you want to play another game? (y/n):  y\n"
     ]
    },
    {
     "name": "stdout",
     "output_type": "stream",
     "text": [
      "Enter 'x' to exit, 'n' to start a new game, or 's' to show the hidden number.\n"
     ]
    },
    {
     "name": "stdin",
     "output_type": "stream",
     "text": [
      "Your guess:  s\n"
     ]
    },
    {
     "name": "stdout",
     "output_type": "stream",
     "text": [
      "s\n",
      "Cheat mode: The hidden number is 14.\n"
     ]
    },
    {
     "name": "stdin",
     "output_type": "stream",
     "text": [
      "Your guess:  21\n"
     ]
    },
    {
     "name": "stdout",
     "output_type": "stream",
     "text": [
      "21\n",
      "Too big!\n"
     ]
    },
    {
     "name": "stdin",
     "output_type": "stream",
     "text": [
      "Your guess:  18\n"
     ]
    },
    {
     "name": "stdout",
     "output_type": "stream",
     "text": [
      "18\n",
      "Too big!\n"
     ]
    },
    {
     "name": "stdin",
     "output_type": "stream",
     "text": [
      "Your guess:  15\n"
     ]
    },
    {
     "name": "stdout",
     "output_type": "stream",
     "text": [
      "15\n",
      "Too big!\n"
     ]
    },
    {
     "name": "stdin",
     "output_type": "stream",
     "text": [
      "Your guess:  10\n"
     ]
    },
    {
     "name": "stdout",
     "output_type": "stream",
     "text": [
      "10\n",
      "Too small!\n"
     ]
    },
    {
     "name": "stdin",
     "output_type": "stream",
     "text": [
      "Your guess:  13\n"
     ]
    },
    {
     "name": "stdout",
     "output_type": "stream",
     "text": [
      "13\n",
      "Too small!\n"
     ]
    }
   ],
   "source": [
    "import random\n",
    "\n",
    "def user_input(prompt):\n",
    "    \"\"\"Input from the user\"\"\"\n",
    "    return input(prompt).strip().lower()\n",
    "\n",
    "def comp_num():\n",
    "    \"\"\"Whole number between 1 and 20\"\"\"\n",
    "    return random.randint(1, 20)\n",
    "\n",
    "def game():\n",
    "    \"\"\"number guessing game\"\"\"\n",
    "    hid_num = comp_num()\n",
    "    trial = 0\n",
    "    print(\"Enter 'x' to exit, 'n' to start a new game, or 's' to show the hidden number.\")\n",
    "\n",
    "    while True:\n",
    "        guess = user_input(\"Your guess: \")\n",
    "        print(guess)\n",
    "        \n",
    "        # commands\n",
    "        if guess == \"x\":\n",
    "            print(\"Exit. See you again!\")\n",
    "            return False \n",
    "        elif guess == \"n\":\n",
    "            print(\"Leaving the current game.\")\n",
    "            return True  # new game\n",
    "        elif guess == \"s\":\n",
    "            print(f\"Cheat mode: The hidden number is {hid_num}.\")\n",
    "            continue\n",
    "\n",
    "        # Validate the guess\n",
    "        if not guess.isdigit():\n",
    "            print(\"not valid\")\n",
    "            continue\n",
    "        \n",
    "        guess = int(guess)\n",
    "        trial += 1\n",
    "        \n",
    "        # Comparsion of input guess with hidden number\n",
    "        if guess < hid_num:\n",
    "            print(\"Too small!\")\n",
    "        elif guess > hid_num:\n",
    "            print(\"Too big!\")\n",
    "        else:\n",
    "            print(f\"Congratulations! correct guess in {trial} attempts.\")\n",
    "            return True  # new game\n",
    "\n",
    "def main():\n",
    " \n",
    "    print(\"Number Guessing Game!\")\n",
    "    \n",
    "    while True:\n",
    "        new_game = game()\n",
    "        if game is False:  \n",
    "            break\n",
    "        else:\n",
    "            play_again = user_input(\"\\n Do you want to play another game? (y/n): \")\n",
    "            if play_again != \"y\":\n",
    "                print(\"Goodbye!\")\n",
    "                break\n",
    "\n",
    "if __name__ == \"__main__\":\n",
    "    main()"
   ]
  },
  {
   "cell_type": "code",
   "execution_count": null,
   "id": "525152ad-facb-49c1-9c1d-66f4e693d2d0",
   "metadata": {},
   "outputs": [],
   "source": []
  }
 ],
 "metadata": {
  "kernelspec": {
   "display_name": "Python 3 (ipykernel)",
   "language": "python",
   "name": "python3"
  },
  "language_info": {
   "codemirror_mode": {
    "name": "ipython",
    "version": 3
   },
   "file_extension": ".py",
   "mimetype": "text/x-python",
   "name": "python",
   "nbconvert_exporter": "python",
   "pygments_lexer": "ipython3",
   "version": "3.13.0"
  }
 },
 "nbformat": 4,
 "nbformat_minor": 5
}
