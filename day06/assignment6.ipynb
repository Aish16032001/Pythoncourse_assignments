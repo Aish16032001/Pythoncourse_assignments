{
 "cells": [
  {
   "cell_type": "code",
   "execution_count": 1,
   "id": "9d897ae7-1df2-485d-8bdd-fa78fb7f1a56",
   "metadata": {},
   "outputs": [
    {
     "name": "stdout",
     "output_type": "stream",
     "text": [
      "['BRCA1', 'TP53', 'EGFR', 'BRCA1', 'PTEN', 'MYC', 'KRAS', 'APOE', 'CFTR', 'BRCA2', 'PIK3CA', 'ALK', 'ATM', 'HER2', 'BRAF', 'BRCA1', 'EGFR', 'TP53', 'CDH1', 'ABL1', 'EGFR', 'TP53', 'MYC', 'BRCA2'] \n",
      "\n",
      "Total number of genes: 24\n"
     ]
    }
   ],
   "source": [
    "# TASK 1\n",
    "# Count genes\n",
    "gene_sequence = \"BRCA1,TP53,EGFR,BRCA1,PTEN,MYC,KRAS,APOE,CFTR,BRCA2,PIK3CA,ALK,ATM,HER2,BRAF,BRCA1,EGFR,TP53,CDH1,ABL1,EGFR,TP53,MYC,BRCA2\"\n",
    "\n",
    "# Split the text into individual genes\n",
    "gene_sequence_new = gene_sequence.split(',')\n",
    "print(gene_sequence_new,\"\\n\")\n",
    "# Count the number of genes\n",
    "num_genes = len(gene_sequence_new)\n",
    "\n",
    "print(f\"Total number of genes: {num_genes}\")"
   ]
  },
  {
   "cell_type": "code",
   "execution_count": 2,
   "id": "56f16220-f90d-45c8-b539-3b596e44e317",
   "metadata": {},
   "outputs": [
    {
     "name": "stdout",
     "output_type": "stream",
     "text": [
      "Gene occurrences: {'BRCA1': 3, 'TP53': 3, 'EGFR': 3, 'PTEN': 1, 'MYC': 2, 'KRAS': 1, 'APOE': 1, 'CFTR': 1, 'BRCA2': 2, 'PIK3CA': 1, 'ALK': 1, 'ATM': 1, 'HER2': 1, 'BRAF': 1, 'CDH1': 1, 'ABL1': 1}\n"
     ]
    }
   ],
   "source": [
    "# TASK 2\n",
    "#empty dictionary \n",
    "gene_counts = {}  \n",
    "\n",
    "# Loop through each gene in the list\n",
    "for gene in gene_sequence_new:\n",
    "    if gene in gene_counts:\n",
    "        # Increment the count for the gene\n",
    "        gene_counts[gene] += 1\n",
    "    else:\n",
    "        # Add the gene with a count of 1\n",
    "        gene_counts[gene] = 1\n",
    "        \n",
    "print(f\"Gene occurrences: {gene_counts}\")\n"
   ]
  },
  {
   "cell_type": "code",
   "execution_count": 3,
   "id": "b4e3c044-fb62-4537-84bf-fa05af668460",
   "metadata": {},
   "outputs": [
    {
     "name": "stdout",
     "output_type": "stream",
     "text": [
      "BRCA1: 3\n",
      "PTEN: 1\n",
      "EGFR: 3\n",
      "FOXP3: not found (count: 0)\n"
     ]
    }
   ],
   "source": [
    "# TASK 3\n",
    "# List of specific genes \n",
    "genes_to_check = [\"BRCA1\", \"PTEN\", \"EGFR\", \"FOXP3\"]\n",
    "\n",
    "# Loop through specific genes to check their presence in the gene count dictionary\n",
    "for gene in genes_to_check:\n",
    "    if gene in gene_counts:\n",
    "        \n",
    "        print(f\"{gene}: {gene_counts[gene]}\")\n",
    "    else:\n",
    "        # Print the gene and \"not found\" if not present\n",
    "        print(f\"{gene}: not found (count: {gene_counts.get(gene, 0)})\")\n"
   ]
  },
  {
   "cell_type": "code",
   "execution_count": 4,
   "id": "eb5d9b1f-f447-4d61-ae7f-4425b5bb8609",
   "metadata": {},
   "outputs": [
    {
     "name": "stdout",
     "output_type": "stream",
     "text": [
      "Number of genes before adding: 24 \n",
      "\n",
      "['BRCA1', 'TP53', 'EGFR', 'BRCA1', 'PTEN', 'MYC', 'KRAS', 'APOE', 'CFTR', 'BRCA2', 'PIK3CA', 'ALK', 'ATM', 'HER2', 'BRAF', 'BRCA1', 'EGFR', 'TP53', 'CDH1', 'ABL1', 'EGFR', 'TP53', 'MYC', 'BRCA2', 'FOXP3', 'BRCA3', 'NOTCH1', 'TP53'] \n",
      "\n",
      "Number of genes after adding: 28\n"
     ]
    }
   ],
   "source": [
    "# TASK 4\n",
    "# new genes \n",
    "new_genes = [\"FOXP3\", \"BRCA3\", \"NOTCH1\", \"TP53\"]\n",
    "\n",
    "print(f\"Number of genes before adding: {len(gene_sequence_new)}\", '\\n')\n",
    "\n",
    "gene_sequence_new.extend(new_genes)\n",
    "print(gene_sequence_new, '\\n')\n",
    "print(f\"Number of genes after adding: {len(gene_sequence_new)}\")"
   ]
  },
  {
   "cell_type": "code",
   "execution_count": null,
   "id": "694d5d66-7b7a-4a91-b371-1cbcd7b0a58d",
   "metadata": {},
   "outputs": [],
   "source": []
  }
 ],
 "metadata": {
  "kernelspec": {
   "display_name": "Python 3 (ipykernel)",
   "language": "python",
   "name": "python3"
  },
  "language_info": {
   "codemirror_mode": {
    "name": "ipython",
    "version": 3
   },
   "file_extension": ".py",
   "mimetype": "text/x-python",
   "name": "python",
   "nbconvert_exporter": "python",
   "pygments_lexer": "ipython3",
   "version": "3.13.0"
  }
 },
 "nbformat": 4,
 "nbformat_minor": 5
}
